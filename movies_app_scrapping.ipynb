{
 "cells": [
  {
   "cell_type": "markdown",
   "id": "b73ec9b2",
   "metadata": {},
   "source": [
    "# Instalasi dan Scraping"
   ]
  },
  {
   "cell_type": "code",
   "execution_count": 1,
   "id": "7a05688d",
   "metadata": {},
   "outputs": [],
   "source": [
    "from google_play_scraper import reviews, Sort\n",
    "import pandas as pd\n",
    "from tqdm import tqdm\n",
    "import time\n",
    "\n",
    "# Daftar aplikasi yang akan di-scrape\n",
    "app_ids = {\n",
    "    \"Netflix\": \"com.netflix.mediaclient\",\n",
    "    \"Disney+ Hotstar\": \"in.startv.hotstar\",\n",
    "    \"Amazon Prime Video\": \"com.amazon.avod.thirdpartyclient\",\n",
    "    \"Viu\": \"com.viu.android\",\n",
    "    \"WeTV\": \"com.tencent.qqlivei18n\",\n",
    "    \"Vidio\": \"com.vidio.android\",\n",
    "    \"HBO GO\": \"id.hbo.hbogo\"\n",
    "}"
   ]
  },
  {
   "cell_type": "code",
   "execution_count": 2,
   "id": "08ed9761",
   "metadata": {},
   "outputs": [],
   "source": [
    "def get_reviews(app_id, app_name, total_count=3000):\n",
    "    all_reviews = []\n",
    "    count = 0\n",
    "    next_token = None\n",
    "\n",
    "    with tqdm(total=total_count, desc=f\"Scraping {app_name}\") as pbar:\n",
    "        while count < total_count:\n",
    "            try:\n",
    "                result, next_token = reviews(\n",
    "                    app_id,\n",
    "                    lang='id',\n",
    "                    country='id',\n",
    "                    sort=Sort.MOST_RELEVANT,\n",
    "                    count=200,\n",
    "                    continuation_token=next_token\n",
    "                )\n",
    "            except Exception as e:\n",
    "                print(f\"[!] Error saat scrape {app_name}: {e}\")\n",
    "                break\n",
    "\n",
    "            if not result:\n",
    "                print(f\"[i] Tidak ada hasil, kemungkinan review habis untuk {app_name}.\")\n",
    "                break\n",
    "\n",
    "            all_reviews.extend(result)\n",
    "            count += len(result)\n",
    "            pbar.update(len(result))\n",
    "\n",
    "            if not next_token:\n",
    "                break\n",
    "\n",
    "            time.sleep(0.5)  # jeda agar tidak terlalu cepat\n",
    "\n",
    "    df = pd.DataFrame(all_reviews)\n",
    "    if df.empty:\n",
    "        print(f\"[i] Tidak ada data review untuk {app_name}\")\n",
    "        return pd.DataFrame(columns=['app', 'content', 'score'])\n",
    "\n",
    "    df['app'] = app_name\n",
    "    print(f\"[✓] Jumlah review terkumpul dari {app_name}: {len(df)}\")\n",
    "    return df[['app', 'content', 'score']]"
   ]
  },
  {
   "cell_type": "code",
   "execution_count": 3,
   "id": "7b709c9a",
   "metadata": {},
   "outputs": [
    {
     "name": "stderr",
     "output_type": "stream",
     "text": [
      "Scraping Netflix:   0%|          | 0/3000 [00:00<?, ?it/s]"
     ]
    },
    {
     "name": "stderr",
     "output_type": "stream",
     "text": [
      "Scraping Netflix: 100%|██████████| 3000/3000 [00:24<00:00, 121.29it/s]\n"
     ]
    },
    {
     "name": "stdout",
     "output_type": "stream",
     "text": [
      "[✓] Jumlah review terkumpul dari Netflix: 3000\n"
     ]
    },
    {
     "name": "stderr",
     "output_type": "stream",
     "text": [
      "Scraping Disney+ Hotstar:  12%|█▏        | 349/3000 [00:03<00:25, 103.22it/s]\n"
     ]
    },
    {
     "name": "stdout",
     "output_type": "stream",
     "text": [
      "[i] Tidak ada hasil, kemungkinan review habis untuk Disney+ Hotstar.\n",
      "[✓] Jumlah review terkumpul dari Disney+ Hotstar: 349\n"
     ]
    },
    {
     "name": "stderr",
     "output_type": "stream",
     "text": [
      "Scraping Amazon Prime Video: 100%|██████████| 3000/3000 [00:22<00:00, 136.09it/s]\n"
     ]
    },
    {
     "name": "stdout",
     "output_type": "stream",
     "text": [
      "[✓] Jumlah review terkumpul dari Amazon Prime Video: 3000\n"
     ]
    },
    {
     "name": "stderr",
     "output_type": "stream",
     "text": [
      "Scraping Viu:   0%|          | 0/3000 [00:00<?, ?it/s]\n"
     ]
    },
    {
     "name": "stdout",
     "output_type": "stream",
     "text": [
      "[i] Tidak ada hasil, kemungkinan review habis untuk Viu.\n",
      "[i] Tidak ada data review untuk Viu\n"
     ]
    },
    {
     "name": "stderr",
     "output_type": "stream",
     "text": [
      "Scraping WeTV: 100%|██████████| 3000/3000 [00:18<00:00, 159.68it/s]\n"
     ]
    },
    {
     "name": "stdout",
     "output_type": "stream",
     "text": [
      "[✓] Jumlah review terkumpul dari WeTV: 3000\n"
     ]
    },
    {
     "name": "stderr",
     "output_type": "stream",
     "text": [
      "Scraping Vidio: 100%|██████████| 3000/3000 [00:19<00:00, 154.03it/s]\n"
     ]
    },
    {
     "name": "stdout",
     "output_type": "stream",
     "text": [
      "[✓] Jumlah review terkumpul dari Vidio: 3000\n"
     ]
    },
    {
     "name": "stderr",
     "output_type": "stream",
     "text": [
      "Scraping HBO GO:  21%|██        | 635/3000 [00:04<00:16, 147.14it/s]"
     ]
    },
    {
     "name": "stdout",
     "output_type": "stream",
     "text": [
      "[i] Tidak ada hasil, kemungkinan review habis untuk HBO GO.\n",
      "[✓] Jumlah review terkumpul dari HBO GO: 635\n",
      "[✓] Total semua review: 12984\n"
     ]
    },
    {
     "name": "stderr",
     "output_type": "stream",
     "text": [
      "\n"
     ]
    }
   ],
   "source": [
    "all_data = pd.DataFrame()\n",
    "\n",
    "for name, app_id in app_ids.items():\n",
    "    df = get_reviews(app_id, name, total_count=3000)\n",
    "    all_data = pd.concat([all_data, df], ignore_index=True)\n",
    "\n",
    "    # Opsional: simpan per aplikasi\n",
    "    # df.to_csv(f\"{name}_reviews.csv\", index=False)\n",
    "\n",
    "# Simpan semua data ke satu file\n",
    "all_data.to_csv(\"all_streaming-platform_reviews.csv\", index=False)\n",
    "print(f\"[✓] Total semua review: {len(all_data)}\")"
   ]
  }
 ],
 "metadata": {
  "kernelspec": {
   "display_name": "Python 3",
   "language": "python",
   "name": "python3"
  },
  "language_info": {
   "codemirror_mode": {
    "name": "ipython",
    "version": 3
   },
   "file_extension": ".py",
   "mimetype": "text/x-python",
   "name": "python",
   "nbconvert_exporter": "python",
   "pygments_lexer": "ipython3",
   "version": "3.12.3"
  }
 },
 "nbformat": 4,
 "nbformat_minor": 5
}
